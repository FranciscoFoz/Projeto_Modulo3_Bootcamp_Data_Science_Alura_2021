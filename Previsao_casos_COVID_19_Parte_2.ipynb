{
  "cells": [
    {
      "cell_type": "markdown",
      "metadata": {
        "id": "view-in-github",
        "colab_type": "text"
      },
      "source": [
        "<a href=\"https://colab.research.google.com/github/FranciscoFoz/Projeto_Modulo3_Bootcamp_Data_Science_Alura_2021/blob/main/Previsao_casos_COVID_19_Parte_2.ipynb\" target=\"_parent\"><img src=\"https://colab.research.google.com/assets/colab-badge.svg\" alt=\"Open In Colab\"/></a>"
      ]
    },
    {
      "cell_type": "markdown",
      "metadata": {
        "id": "2En-vxP_HNrF"
      },
      "source": [
        "# <font color= MediumSpringGreen\t\tsize = 6> Projeto Módulo 3 \n",
        " Previsão dos casos de COVID-19 no Brasil: </font>\n",
        "# <font color= MediumSpringGreen\t\tsize = 5> \n",
        "Uma análise preditiva no município com maior índice de casos por habitante </font>\n",
        "\n",
        "\n",
        "---\n",
        "\n",
        "\n",
        "\n",
        "\n",
        "# <font color= MediumSpringGreen\t\tsize = 4> Parte 2 - Previsão </font> "
      ]
    },
    {
      "cell_type": "markdown",
      "metadata": {
        "id": "yQ7iEdr7HQzD"
      },
      "source": [
        "Elaborado por [Francisco Foz](https://www.linkedin.com/in/francisco-tadeu-foz/)\n",
        "\n",
        "Data: 19/12/2021"
      ]
    },
    {
      "cell_type": "markdown",
      "metadata": {
        "id": "_mTf3-DzHXZr"
      },
      "source": [
        "Durante o terceiro módulo do bootcamp Data Science 2021 da Alura, podemos estudar séries temporais e conhecer a biblioteca [Facebook Prophet](https://facebook.github.io/prophet/). \n",
        "\n",
        "Neste projeto utilizarei das técnicas estudadas para análisar os dados dos boletins epidemiológicos da COVID-19 no Brasil extraídos do [Brasil.io](https://brasil.io/dataset/covid19/) (última atualização: 17 de dezembro de 2021, acesso em 18 de dezembro de 2021).\n",
        "\n",
        "Você pode encontrar o dataset baixado por mim neste [link](https://drive.google.com/file/d/1cosY6p83n_88hJv9I51oQjcS_I1z0Utw/view?usp=sharing).\n",
        "\n",
        "---\n",
        "\n",
        "\n",
        "\n",
        "\n",
        "## Projeto\n",
        "\n",
        "Esta análise pretende explorar os dados dos casos de COVID-19 dos estados e municípios no Brasil, no período de entre 2020-2021. Realizar uma análise preditiva dos casos, no município que tive ro maior número de casos acumulados por habitante.\n",
        "\n",
        "Para se delimitar o estudo, buscarei entender qual foi o **estado com maior quantidade de casos por habitante** e dentre este estado qual foi o **município com maior quantidade de casos por habitante**.\n",
        "\n",
        "A partir deste cenário realizarei os estudos de previsão no município utilizando o **Facebook Prophet**.\n",
        "\n",
        "\n",
        "Responderei os seguintes questionamentos:\n",
        "\n",
        "*    Qual foi o estado com maior índice de casos de COVID-19 por habitante?\n",
        "*    Qual foi o município com maior índice de casos de COVID-19 por habitante?\n",
        "*    Dentre o estado encontrado, qual foi o município com maior índice de casos de COVID-19 por habitante? \n",
        "*    Quais são os números previstos para os próximos 30 dias no município selecionado? \n",
        "\n",
        "\n",
        "O projeto foi dividido em três notebooks: \n",
        "*    [Parte 1: Manipulação de dados](https://colab.research.google.com/drive/1SALaMotX8eYA671Spf_PEw3ixuIdsxIU?usp=sharing)\n",
        "*    Parte 2: Previsão de dados\n",
        "*    [Parte 3: Visualização de dados](https://colab.research.google.com/drive/1JZMt5n9xstbO9OuRSQfCfFS_ILNqOlzU?usp=sharing)\n",
        "\n"
      ]
    },
    {
      "cell_type": "markdown",
      "metadata": {
        "id": "W4fAyPLZHejr"
      },
      "source": [
        "\n",
        "### <font color= MediumSpringGreen> Bibliotecas utilizadas \n",
        "\n",
        "*   Pandas\n",
        "*   Prophet"
      ]
    },
    {
      "cell_type": "code",
      "execution_count": 364,
      "metadata": {
        "id": "rFdCNrB3HMSQ"
      },
      "outputs": [],
      "source": [
        "import pandas as pd\n",
        "import matplotlib.pyplot as plt\n",
        "from fbprophet import Prophet\n",
        "from sklearn.metrics import mean_absolute_error"
      ]
    },
    {
      "cell_type": "markdown",
      "metadata": {
        "id": "Imd2BXw7Hoqi"
      },
      "source": [
        "### <font color= MediumSpringGreen> Importando arquivos\n"
      ]
    },
    {
      "cell_type": "code",
      "execution_count": null,
      "metadata": {
        "id": "4JiZ3X_9H_nw"
      },
      "outputs": [],
      "source": [
        "casos_BoaVista_prophet = pd.read_csv('https://raw.githubusercontent.com/FranciscoFoz/Projeto_Modulo3_Bootcamp_Data_Science_Alura_2021/main/Datasets/casos_covid_BoaVista.csv')"
      ]
    },
    {
      "cell_type": "markdown",
      "metadata": {
        "id": "478KTou7JIow"
      },
      "source": [
        "### <font color= MediumSpringGreen> 1. Manipulando dados de para o Prophet\n"
      ]
    },
    {
      "cell_type": "code",
      "execution_count": null,
      "metadata": {
        "id": "y9NEMDlFONOt"
      },
      "outputs": [],
      "source": [
        "df_treino = pd.DataFrame()                                                      #Criando DF para utilizar os dados de treino"
      ]
    },
    {
      "cell_type": "code",
      "execution_count": null,
      "metadata": {
        "id": "wNof1OhWNzP_"
      },
      "outputs": [],
      "source": [
        "#Armazenar os dados de treino no novo DF\n",
        "\n",
        "df_treino['ds'] = casos_BoaVista_prophet['df'][:607]                            \n",
        "df_treino['y'] = casos_BoaVista_prophet['y'][:607]"
      ]
    },
    {
      "cell_type": "code",
      "execution_count": null,
      "metadata": {
        "id": "w6cEThb-C-Ka"
      },
      "outputs": [],
      "source": [
        "#Criar uma lista com todos os feriados da cidade de Boa Vista em Roraima\n",
        "\n",
        "feriados = ['2020-01-01',\n",
        "            '2020-01-20',\n",
        "            '2020-02-24',\n",
        "            '2020-02-25',\n",
        "            '2020-04-10',\n",
        "            '2020-04-21',\n",
        "            '2020-05-01',\n",
        "            '2020-06-11',\n",
        "            '2020-06-29',\n",
        "            '2020-07-09',\n",
        "            '2020-09-07',\n",
        "            '2020-10-05',\n",
        "            '2020-10-12',\n",
        "            '2020-10-15',\n",
        "            '2020-10-28',\n",
        "            '2020-11-02',\n",
        "            '2020-11-15',\n",
        "            '2020-11-20',\n",
        "            '2020-12-07',\n",
        "            '2020-12-08',\n",
        "            '2020-12-25',\n",
        "            '2020-12-31',\n",
        "            '2021-01-01',\n",
        "            '2021-01-20',\n",
        "            '2021-02-15',\n",
        "            '2021-02-16',\n",
        "            '2021-02-17',\n",
        "            '2021-04-02',\n",
        "            '2021-04-21',\n",
        "            '2021-05-01',\n",
        "            '2021-06-03',\n",
        "            '2021-06-29',\n",
        "            '2021-07-09',\n",
        "            '2021-10-05',\n",
        "            '2021-10-05',\n",
        "            '2021-10-12',\n",
        "            '2021-10-15',\n",
        "            '2021-10-28',\n",
        "            '2021-11-02',\n",
        "            '2021-11-15',\n",
        "            '2021-11-20',\n",
        "            '2021-12-07',\n",
        "            '2021-12-08',\n",
        "            '2021-12-24',\n",
        "            '2021-12-25',\n",
        "            '2021-12-31',\n",
        "            '2022-01-01',\n",
        "            '2022-01-20',]"
      ]
    },
    {
      "cell_type": "code",
      "execution_count": null,
      "metadata": {
        "id": "fnFj4bhVIZXW"
      },
      "outputs": [],
      "source": [
        "feriados_RR = pd.DataFrame({'holiday' : 'feriado',                               #Criar DF com os feriados\n",
        "                           'ds' : pd.to_datetime(feriados)})"
      ]
    },
    {
      "cell_type": "code",
      "source": [
        "feriados_RR.to_csv('feriados_RR.csv')"
      ],
      "metadata": {
        "id": "9QB2NgxsSSXZ"
      },
      "execution_count": 502,
      "outputs": []
    },
    {
      "cell_type": "markdown",
      "source": [
        "### <font color= MediumSpringGreen> 2. Realizando previsao no Prophet\n"
      ],
      "metadata": {
        "id": "DvLdiDM6iyGP"
      }
    },
    {
      "cell_type": "code",
      "execution_count": 290,
      "metadata": {
        "id": "BwyjbtGxI3bt",
        "colab": {
          "base_uri": "https://localhost:8080/"
        },
        "outputId": "6bbbbfcc-7c27-4798-ed2c-41f2db529f39"
      },
      "outputs": [
        {
          "output_type": "stream",
          "name": "stderr",
          "text": [
            "INFO:fbprophet:Disabling yearly seasonality. Run prophet with yearly_seasonality=True to override this.\n",
            "INFO:fbprophet:Disabling daily seasonality. Run prophet with daily_seasonality=True to override this.\n"
          ]
        }
      ],
      "source": [
        "#Gerando o modelo com change point com melhor ajuste (vide \"mean_absolute_error\"), feriados listados e sazonalidade multiplicativa. \n",
        "modelo = Prophet(changepoint_prior_scale=20.0,holidays=feriados_RR,seasonality_mode='multiplicative')   \n",
        "\n",
        "modelo.fit(df_treino);                                                                                  #Ajustar ao DF de treino\n",
        "dataframefuturo = modelo.make_future_dataframe(periods=30)                                              #Gerar o dataframe futuro\n",
        "previsao = modelo.predict(dataframefuturo)                                                              #Criar o DF da previsao\n"
      ]
    },
    {
      "cell_type": "code",
      "execution_count": 291,
      "metadata": {
        "id": "rOcbKr6bZCI4"
      },
      "outputs": [],
      "source": [
        "df_teste = pd.DataFrame()                                                       #Criando DF para utilizar os dados de treino\n",
        "\n",
        "#Armazenar os dados de treino no novo DF\n",
        "df_teste['ds'] = casos_BoaVista_prophet['df'][607:]\n",
        "df_teste['y'] = casos_BoaVista_prophet['y'][607:]"
      ]
    },
    {
      "cell_type": "code",
      "source": [
        "df_teste.to_csv('df_teste.csv')"
      ],
      "metadata": {
        "id": "i1uFSefUS27h"
      },
      "execution_count": 503,
      "outputs": []
    },
    {
      "cell_type": "code",
      "execution_count": 292,
      "metadata": {
        "colab": {
          "base_uri": "https://localhost:8080/"
        },
        "id": "ubYiOJa5NwXY",
        "outputId": "f18e9d95-5a4e-4491-dafa-27765083aaa8"
      },
      "outputs": [
        {
          "output_type": "execute_result",
          "data": {
            "text/plain": [
              "70.26898745648116"
            ]
          },
          "metadata": {},
          "execution_count": 292
        }
      ],
      "source": [
        "mean_absolute_error(df_treino['y'],previsao['yhat'][:607])                      #Testar o ajuste da previsao com a função do sklearn, para o menor erro possível."
      ]
    },
    {
      "cell_type": "markdown",
      "source": [
        "### <font color= MediumSpringGreen> 3. Excluindo os outliers\n",
        "\n",
        "Realizarei a exclusão dos outliers para que o modelo possa se ajustar da melhor forma aos dados."
      ],
      "metadata": {
        "id": "kg7TtB9GnOHF"
      }
    },
    {
      "cell_type": "code",
      "execution_count": 296,
      "metadata": {
        "id": "1GkdruqAjx4r"
      },
      "outputs": [],
      "source": [
        "sem_outliers = df_treino[(df_treino['y'] > previsao['yhat_lower'][:607]) & (df_treino['y'] < previsao['yhat_upper'][:607])]                 #Excluindo os outliers"
      ]
    },
    {
      "cell_type": "code",
      "source": [
        "mean_absolute_error(sem_outliers['y'],previsao['yhat'][:556])                   #Testar o ajuste da previsao com a função do sklearn, para o menor erro possível."
      ],
      "metadata": {
        "colab": {
          "base_uri": "https://localhost:8080/"
        },
        "id": "MA4mQjf8vNcI",
        "outputId": "1d1186f7-2efe-4930-b729-17019767ecc9"
      },
      "execution_count": 409,
      "outputs": [
        {
          "output_type": "execute_result",
          "data": {
            "text/plain": [
              "42.034823674403775"
            ]
          },
          "metadata": {},
          "execution_count": 409
        }
      ]
    },
    {
      "cell_type": "code",
      "source": [
        "sem_outliers.to_csv('dados_previsao.csv')"
      ],
      "metadata": {
        "id": "fOO74I7HO5tR"
      },
      "execution_count": 495,
      "outputs": []
    }
  ],
  "metadata": {
    "colab": {
      "name": "Previsao_casos_COVID-19_Parte_2.ipynb",
      "provenance": [],
      "authorship_tag": "ABX9TyOJ3h4fOoN72V3QgpU4ZtOE",
      "include_colab_link": true
    },
    "kernelspec": {
      "display_name": "Python 3",
      "name": "python3"
    },
    "language_info": {
      "name": "python"
    }
  },
  "nbformat": 4,
  "nbformat_minor": 0
}