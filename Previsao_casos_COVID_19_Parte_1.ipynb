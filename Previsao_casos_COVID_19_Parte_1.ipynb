{
  "nbformat": 4,
  "nbformat_minor": 0,
  "metadata": {
    "colab": {
      "name": "Previsao_casos_COVID-19_Parte_1.ipynb",
      "provenance": [],
      "toc_visible": true,
      "mount_file_id": "1SALaMotX8eYA671Spf_PEw3ixuIdsxIU",
      "authorship_tag": "ABX9TyO6tt8GnGdrOPs39TReCN25",
      "include_colab_link": true
    },
    "kernelspec": {
      "name": "python3",
      "display_name": "Python 3"
    },
    "language_info": {
      "name": "python"
    }
  },
  "cells": [
    {
      "cell_type": "markdown",
      "metadata": {
        "id": "view-in-github",
        "colab_type": "text"
      },
      "source": [
        "<a href=\"https://colab.research.google.com/github/FranciscoFoz/Projeto_Modulo3_Bootcamp_Data_Science_Alura_2021/blob/main/Previsao_casos_COVID_19_Parte_1.ipynb\" target=\"_parent\"><img src=\"https://colab.research.google.com/assets/colab-badge.svg\" alt=\"Open In Colab\"/></a>"
      ]
    },
    {
      "cell_type": "markdown",
      "source": [
        "# <font color= MediumSpringGreen\t\tsize = 6> Projeto Módulo 3 \n",
        " Previsão dos casos de COVID-19 no Brasil: </font>\n",
        "# <font color= MediumSpringGreen\t\tsize = 5> \n",
        " Uma análise no estado/município com maior índice por habitante </font>\n",
        "\n",
        "\n",
        "---\n",
        "\n",
        "\n",
        "\n",
        "\n",
        "# <font color= MediumSpringGreen\t\tsize = 4> Parte 1 - Manipulação </font> \n"
      ],
      "metadata": {
        "id": "wt_NIcDxRbrp"
      }
    },
    {
      "cell_type": "markdown",
      "source": [
        "Elaborado por [Francisco Foz](https://www.linkedin.com/in/francisco-tadeu-foz/)\n",
        "\n",
        "Data: 19/12/2021"
      ],
      "metadata": {
        "id": "S2iaS6PjP2ER"
      }
    },
    {
      "cell_type": "markdown",
      "source": [
        "Durante o terceiro módulo do bootcamp Data Science 2021 da Alura, podemos estudar séries temporais e conhecer a biblioteca [Facebook Prophet](https://facebook.github.io/prophet/). \n",
        "\n",
        "Neste projeto utilizarei das técnicas estudadas para análisar os dados dos boletins epidemiológicos da COVID-19 no Brasil extraídos do [Brasil.io](https://brasil.io/dataset/covid19/) (última atualização: 17 de dezembro de 2021, acesso em 18 de dezembro de 2021).\n",
        "\n",
        "\n",
        "\n",
        "---\n",
        "\n",
        "\n",
        "\n",
        "\n",
        "## Projeto\n",
        "\n",
        "Esta análise pretende explorar os dados dos casos de COVID-19 dos estados e municípios no Brasil, no período de entre 2020-2021.\n",
        "\n",
        "Para se delimitar o estudo, buscarei entender qual foi o **estado com maior quantidade de casos por habitante** e dentre este estado qual foi o **município com maior quantidade de casos por habitante**.\n",
        "\n",
        "A partir deste cenário realizarei os estudos de previsão no município utilizando o **Facebook Prophet**.\n",
        "\n",
        "\n",
        "Responderei os seguintes questionamentos:\n",
        "\n",
        "*    Qual foi o estado com maior índice de casos de COVID-19 por habitante?\n",
        "*    Qual foi o município com maior índice de casos de COVID-19 por habitante?\n",
        "*    Dentre o estado encontrado, qual foi o município com maior índice de casos de COVID-19 por habitante? \n",
        "*    Quais são os números previstos para os próximos 30 dias no município selecionado? \n",
        "\n",
        "\n",
        "O projeto foi dividido em três notebooks: \n",
        "*    Parte 1: Manipulação de dados\n",
        "*    [Parte 2: Previsão de dados]()\n",
        "*    [Parte 3: Visualização de dados]()\n",
        "\n"
      ],
      "metadata": {
        "id": "koTtRLKFP8mQ"
      }
    },
    {
      "cell_type": "markdown",
      "source": [
        "\n",
        "### <font color= MediumSpringGreen> Bibliotecas utilizadas \n",
        "\n",
        "*   Pandas\n",
        "*   Zipfile\n",
        "\n",
        "\n"
      ],
      "metadata": {
        "id": "WMdVRwWOOdq7"
      }
    },
    {
      "cell_type": "code",
      "execution_count": null,
      "metadata": {
        "id": "Enja3lurMl1d"
      },
      "outputs": [],
      "source": [
        "import pandas as pd\n",
        "import zipfile"
      ]
    },
    {
      "cell_type": "markdown",
      "source": [
        "### <font color= MediumSpringGreen> Importando arquivos"
      ],
      "metadata": {
        "id": "HsXKO3GOOnR0"
      }
    },
    {
      "cell_type": "code",
      "source": [
        "with zipfile.ZipFile('/content/drive/MyDrive/Bootcamp_Data_Science/Modulo_3/caso_full.zip') as z:     #Acessando zip\n",
        "  with z.open('caso_full.csv') as f:                                                                  #Descompactando zip\n",
        "    casos_covid = pd.read_csv(f)                                                                      #Criando DataFrame"
      ],
      "metadata": {
        "id": "bKhWBeQZHyIx"
      },
      "execution_count": null,
      "outputs": []
    },
    {
      "cell_type": "markdown",
      "source": [
        "### <font color= MediumSpringGreen> 1. Estados: casos por habitante\n",
        "\n",
        "Irei manipular os dados para encontrar qual foi o estado com maior número de casos por habitante até o momento."
      ],
      "metadata": {
        "id": "A_WnIpcruPNW"
      }
    },
    {
      "cell_type": "code",
      "source": [
        "#Criar DF com colunas necessárias e filtrar por estados e última data disponível\n",
        "estados_dez_2021 = casos_covid[['date','state','place_type','last_available_confirmed_per_100k_inhabitants']].query('place_type == \"state\" and date == \"2021-12-17\"')     "
      ],
      "metadata": {
        "id": "KWopq-ZEJ2yd"
      },
      "execution_count": 84,
      "outputs": []
    },
    {
      "cell_type": "code",
      "source": [
        "estados_dez_2021.drop(columns=['place_type'],inplace=True)                      #Remover coluna de tipo de local"
      ],
      "metadata": {
        "id": "Uo7QW7WaN_nS"
      },
      "execution_count": 85,
      "outputs": []
    },
    {
      "cell_type": "code",
      "source": [
        "estados_dez_2021.columns = ['data','estado', 'casos_confirmados_acumulados_por_100k_habitantes']  #Renomear colunas"
      ],
      "metadata": {
        "id": "hYgw7NlC0FDh"
      },
      "execution_count": 86,
      "outputs": []
    },
    {
      "cell_type": "code",
      "source": [
        "estados_dez_2021.sort_values(by='casos_confirmados_acumulados_por_100k_habitantes',ascending=True,inplace = True) #Ordenar DF pela coluna de casos/habitante"
      ],
      "metadata": {
        "id": "LKG3yq1z0ENG"
      },
      "execution_count": 87,
      "outputs": []
    },
    {
      "cell_type": "code",
      "source": [
        "estados_dez_2021['casos_confirmados_acumulados_por_100k_habitantes'] = estados_dez_2021['casos_confirmados_acumulados_por_100k_habitantes'].round(0).astype(int)   #Arredondar números"
      ],
      "metadata": {
        "id": "v0sDwYSh4DGh"
      },
      "execution_count": 100,
      "outputs": []
    },
    {
      "cell_type": "code",
      "source": [
        "estados_dez_2021['data'] = pd.to_datetime(estados_dez_2021['data'],format='%Y-%m-%d')   #Alterando o tipo da coluna data"
      ],
      "metadata": {
        "id": "CvROcA1b2Z9q"
      },
      "execution_count": 101,
      "outputs": []
    },
    {
      "cell_type": "code",
      "source": [
        "estados_dez_2021_5_primeiros = estados_dez_2021.tail(5)                         #Selecionando apenas os maiores valores"
      ],
      "metadata": {
        "id": "8BeO2A7M280x"
      },
      "execution_count": 102,
      "outputs": []
    },
    {
      "cell_type": "code",
      "source": [
        "estados_dez_2021_5_primeiros.set_index('data',inplace=True)                     #Selecionando a data como índice"
      ],
      "metadata": {
        "id": "KfG4thI53O8g"
      },
      "execution_count": 103,
      "outputs": []
    },
    {
      "cell_type": "code",
      "source": [
        "estados_dez_2021_5_primeiros"
      ],
      "metadata": {
        "colab": {
          "base_uri": "https://localhost:8080/",
          "height": 216
        },
        "id": "o8QFp_-N3hin",
        "outputId": "4ebc1a75-76dd-4c00-946c-a6ffdb4c42ed"
      },
      "execution_count": 104,
      "outputs": [
        {
          "output_type": "execute_result",
          "data": {
            "text/html": [
              "\n",
              "  <div id=\"df-d2391d9d-6c0d-4d36-9e31-f3224cb4790d\">\n",
              "    <div class=\"colab-df-container\">\n",
              "      <div>\n",
              "<style scoped>\n",
              "    .dataframe tbody tr th:only-of-type {\n",
              "        vertical-align: middle;\n",
              "    }\n",
              "\n",
              "    .dataframe tbody tr th {\n",
              "        vertical-align: top;\n",
              "    }\n",
              "\n",
              "    .dataframe thead th {\n",
              "        text-align: right;\n",
              "    }\n",
              "</style>\n",
              "<table border=\"1\" class=\"dataframe\">\n",
              "  <thead>\n",
              "    <tr style=\"text-align: right;\">\n",
              "      <th></th>\n",
              "      <th>estado</th>\n",
              "      <th>casos_confirmados_acumulados_por_100k_habitantes</th>\n",
              "    </tr>\n",
              "    <tr>\n",
              "      <th>data</th>\n",
              "      <th></th>\n",
              "      <th></th>\n",
              "    </tr>\n",
              "  </thead>\n",
              "  <tbody>\n",
              "    <tr>\n",
              "      <th>2021-12-17</th>\n",
              "      <td>RO</td>\n",
              "      <td>15708</td>\n",
              "    </tr>\n",
              "    <tr>\n",
              "      <th>2021-12-17</th>\n",
              "      <td>MT</td>\n",
              "      <td>15750</td>\n",
              "    </tr>\n",
              "    <tr>\n",
              "      <th>2021-12-17</th>\n",
              "      <td>DF</td>\n",
              "      <td>16974</td>\n",
              "    </tr>\n",
              "    <tr>\n",
              "      <th>2021-12-17</th>\n",
              "      <td>SC</td>\n",
              "      <td>17075</td>\n",
              "    </tr>\n",
              "    <tr>\n",
              "      <th>2021-12-17</th>\n",
              "      <td>RR</td>\n",
              "      <td>20403</td>\n",
              "    </tr>\n",
              "  </tbody>\n",
              "</table>\n",
              "</div>\n",
              "      <button class=\"colab-df-convert\" onclick=\"convertToInteractive('df-d2391d9d-6c0d-4d36-9e31-f3224cb4790d')\"\n",
              "              title=\"Convert this dataframe to an interactive table.\"\n",
              "              style=\"display:none;\">\n",
              "        \n",
              "  <svg xmlns=\"http://www.w3.org/2000/svg\" height=\"24px\"viewBox=\"0 0 24 24\"\n",
              "       width=\"24px\">\n",
              "    <path d=\"M0 0h24v24H0V0z\" fill=\"none\"/>\n",
              "    <path d=\"M18.56 5.44l.94 2.06.94-2.06 2.06-.94-2.06-.94-.94-2.06-.94 2.06-2.06.94zm-11 1L8.5 8.5l.94-2.06 2.06-.94-2.06-.94L8.5 2.5l-.94 2.06-2.06.94zm10 10l.94 2.06.94-2.06 2.06-.94-2.06-.94-.94-2.06-.94 2.06-2.06.94z\"/><path d=\"M17.41 7.96l-1.37-1.37c-.4-.4-.92-.59-1.43-.59-.52 0-1.04.2-1.43.59L10.3 9.45l-7.72 7.72c-.78.78-.78 2.05 0 2.83L4 21.41c.39.39.9.59 1.41.59.51 0 1.02-.2 1.41-.59l7.78-7.78 2.81-2.81c.8-.78.8-2.07 0-2.86zM5.41 20L4 18.59l7.72-7.72 1.47 1.35L5.41 20z\"/>\n",
              "  </svg>\n",
              "      </button>\n",
              "      \n",
              "  <style>\n",
              "    .colab-df-container {\n",
              "      display:flex;\n",
              "      flex-wrap:wrap;\n",
              "      gap: 12px;\n",
              "    }\n",
              "\n",
              "    .colab-df-convert {\n",
              "      background-color: #E8F0FE;\n",
              "      border: none;\n",
              "      border-radius: 50%;\n",
              "      cursor: pointer;\n",
              "      display: none;\n",
              "      fill: #1967D2;\n",
              "      height: 32px;\n",
              "      padding: 0 0 0 0;\n",
              "      width: 32px;\n",
              "    }\n",
              "\n",
              "    .colab-df-convert:hover {\n",
              "      background-color: #E2EBFA;\n",
              "      box-shadow: 0px 1px 2px rgba(60, 64, 67, 0.3), 0px 1px 3px 1px rgba(60, 64, 67, 0.15);\n",
              "      fill: #174EA6;\n",
              "    }\n",
              "\n",
              "    [theme=dark] .colab-df-convert {\n",
              "      background-color: #3B4455;\n",
              "      fill: #D2E3FC;\n",
              "    }\n",
              "\n",
              "    [theme=dark] .colab-df-convert:hover {\n",
              "      background-color: #434B5C;\n",
              "      box-shadow: 0px 1px 3px 1px rgba(0, 0, 0, 0.15);\n",
              "      filter: drop-shadow(0px 1px 2px rgba(0, 0, 0, 0.3));\n",
              "      fill: #FFFFFF;\n",
              "    }\n",
              "  </style>\n",
              "\n",
              "      <script>\n",
              "        const buttonEl =\n",
              "          document.querySelector('#df-d2391d9d-6c0d-4d36-9e31-f3224cb4790d button.colab-df-convert');\n",
              "        buttonEl.style.display =\n",
              "          google.colab.kernel.accessAllowed ? 'block' : 'none';\n",
              "\n",
              "        async function convertToInteractive(key) {\n",
              "          const element = document.querySelector('#df-d2391d9d-6c0d-4d36-9e31-f3224cb4790d');\n",
              "          const dataTable =\n",
              "            await google.colab.kernel.invokeFunction('convertToInteractive',\n",
              "                                                     [key], {});\n",
              "          if (!dataTable) return;\n",
              "\n",
              "          const docLinkHtml = 'Like what you see? Visit the ' +\n",
              "            '<a target=\"_blank\" href=https://colab.research.google.com/notebooks/data_table.ipynb>data table notebook</a>'\n",
              "            + ' to learn more about interactive tables.';\n",
              "          element.innerHTML = '';\n",
              "          dataTable['output_type'] = 'display_data';\n",
              "          await google.colab.output.renderOutput(dataTable, element);\n",
              "          const docLink = document.createElement('div');\n",
              "          docLink.innerHTML = docLinkHtml;\n",
              "          element.appendChild(docLink);\n",
              "        }\n",
              "      </script>\n",
              "    </div>\n",
              "  </div>\n",
              "  "
            ],
            "text/plain": [
              "           estado  casos_confirmados_acumulados_por_100k_habitantes\n",
              "data                                                               \n",
              "2021-12-17     RO                                             15708\n",
              "2021-12-17     MT                                             15750\n",
              "2021-12-17     DF                                             16974\n",
              "2021-12-17     SC                                             17075\n",
              "2021-12-17     RR                                             20403"
            ]
          },
          "metadata": {},
          "execution_count": 104
        }
      ]
    },
    {
      "cell_type": "markdown",
      "source": [
        "O estado que teve o maior número de casos por habitante foi o de Roraima com 20403 casos para cada 100 mil habitantes."
      ],
      "metadata": {
        "id": "OXQa97MT5XXm"
      }
    },
    {
      "cell_type": "markdown",
      "source": [
        "### <font color= MediumSpringGreen> 2. Municípios: casos por habitante\n",
        "\n",
        "Irei manipular os dados para encontrar qual foi o município com maior número de casos por habitante até o momento.\n",
        "\n",
        "E qual município dentre o estado de Roraima teve o maior número de casos por habitante até o momento."
      ],
      "metadata": {
        "id": "0J7fpXMJ5Fwv"
      }
    },
    {
      "cell_type": "markdown",
      "source": [
        "#### <font color= MediumSpringGreen> 2.1 Municípios do Brasil: casos por habitante\n",
        "\n",
        "\n"
      ],
      "metadata": {
        "id": "kt7bgVIq_O5R"
      }
    },
    {
      "cell_type": "code",
      "source": [
        "#Criar DF com colunas necessárias e filtrar por estados e última data disponível\n",
        "municipios_dez_2021 = casos_covid[['date','state','city','place_type','last_available_confirmed_per_100k_inhabitants']].query('place_type == \"city\" and date == \"2021-12-17\"')     "
      ],
      "metadata": {
        "id": "W2q4p1eh33m3"
      },
      "execution_count": 171,
      "outputs": []
    },
    {
      "cell_type": "code",
      "source": [
        "municipios_dez_2021.drop(columns=['place_type'],inplace=True)                      #Remover coluna de tipo de local"
      ],
      "metadata": {
        "id": "nYJr1Ya452Ud"
      },
      "execution_count": 172,
      "outputs": []
    },
    {
      "cell_type": "code",
      "source": [
        "municipios_dez_2021.columns = ['data','estado','municipio', 'casos_confirmados_acumulados_por_100k_habitantes']  #Renomear colunas"
      ],
      "metadata": {
        "id": "pvpSCYc052SG"
      },
      "execution_count": 173,
      "outputs": []
    },
    {
      "cell_type": "code",
      "source": [
        "municipios_dez_2021.sort_values(by='casos_confirmados_acumulados_por_100k_habitantes',ascending=True,inplace = True) #Ordenar DF pela coluna de casos/habitante"
      ],
      "metadata": {
        "id": "Nhqpf06452Pk"
      },
      "execution_count": 174,
      "outputs": []
    },
    {
      "cell_type": "code",
      "source": [
        "municipios_dez_2021.dropna(subset=['casos_confirmados_acumulados_por_100k_habitantes'],inplace=True)             #Excluir valores nulos"
      ],
      "metadata": {
        "id": "YKPnVpyu6Lhs"
      },
      "execution_count": 175,
      "outputs": []
    },
    {
      "cell_type": "code",
      "source": [
        "municipios_dez_2021['casos_confirmados_acumulados_por_100k_habitantes'] = municipios_dez_2021['casos_confirmados_acumulados_por_100k_habitantes'].round(0).astype(int)   #Arredondar números"
      ],
      "metadata": {
        "id": "enGXHMzA52NM"
      },
      "execution_count": 176,
      "outputs": []
    },
    {
      "cell_type": "code",
      "source": [
        "municipios_dez_2021['data'] = pd.to_datetime(municipios_dez_2021['data'],format='%Y-%m-%d')   #Alterando o tipo da coluna data"
      ],
      "metadata": {
        "id": "FiGGpVSK55U0"
      },
      "execution_count": 177,
      "outputs": []
    },
    {
      "cell_type": "code",
      "source": [
        "municipio_dez_2021_10_primeiros = municipios_dez_2021.tail(10)                         #Selecionando apenas os maiores valores"
      ],
      "metadata": {
        "id": "Cf_9IgC952Jt"
      },
      "execution_count": 178,
      "outputs": []
    },
    {
      "cell_type": "code",
      "source": [
        "municipio_dez_2021_10_primeiros.set_index('data',inplace=True)                     #Selecionando a data como índice"
      ],
      "metadata": {
        "id": "wby9cm4-52CV"
      },
      "execution_count": 179,
      "outputs": []
    },
    {
      "cell_type": "code",
      "source": [
        "municipio_dez_2021_10_primeiros"
      ],
      "metadata": {
        "colab": {
          "base_uri": "https://localhost:8080/",
          "height": 395
        },
        "id": "Xn7sR9nH8mhU",
        "outputId": "d0f83cb4-c200-4771-dcf9-1f1023cc9f25"
      },
      "execution_count": 180,
      "outputs": [
        {
          "output_type": "execute_result",
          "data": {
            "text/html": [
              "\n",
              "  <div id=\"df-507d7d7f-7603-456d-8344-4825b35e64e4\">\n",
              "    <div class=\"colab-df-container\">\n",
              "      <div>\n",
              "<style scoped>\n",
              "    .dataframe tbody tr th:only-of-type {\n",
              "        vertical-align: middle;\n",
              "    }\n",
              "\n",
              "    .dataframe tbody tr th {\n",
              "        vertical-align: top;\n",
              "    }\n",
              "\n",
              "    .dataframe thead th {\n",
              "        text-align: right;\n",
              "    }\n",
              "</style>\n",
              "<table border=\"1\" class=\"dataframe\">\n",
              "  <thead>\n",
              "    <tr style=\"text-align: right;\">\n",
              "      <th></th>\n",
              "      <th>estado</th>\n",
              "      <th>municipio</th>\n",
              "      <th>casos_confirmados_acumulados_por_100k_habitantes</th>\n",
              "    </tr>\n",
              "    <tr>\n",
              "      <th>data</th>\n",
              "      <th></th>\n",
              "      <th></th>\n",
              "      <th></th>\n",
              "    </tr>\n",
              "  </thead>\n",
              "  <tbody>\n",
              "    <tr>\n",
              "      <th>2021-12-17</th>\n",
              "      <td>GO</td>\n",
              "      <td>Campos Verdes</td>\n",
              "      <td>30820</td>\n",
              "    </tr>\n",
              "    <tr>\n",
              "      <th>2021-12-17</th>\n",
              "      <td>RN</td>\n",
              "      <td>Viçosa</td>\n",
              "      <td>30957</td>\n",
              "    </tr>\n",
              "    <tr>\n",
              "      <th>2021-12-17</th>\n",
              "      <td>SC</td>\n",
              "      <td>Presidente Castello Branco</td>\n",
              "      <td>31416</td>\n",
              "    </tr>\n",
              "    <tr>\n",
              "      <th>2021-12-17</th>\n",
              "      <td>PR</td>\n",
              "      <td>Kaloré</td>\n",
              "      <td>32197</td>\n",
              "    </tr>\n",
              "    <tr>\n",
              "      <th>2021-12-17</th>\n",
              "      <td>AM</td>\n",
              "      <td>Itapiranga</td>\n",
              "      <td>33554</td>\n",
              "    </tr>\n",
              "    <tr>\n",
              "      <th>2021-12-17</th>\n",
              "      <td>RS</td>\n",
              "      <td>Santa Cecília do Sul</td>\n",
              "      <td>34578</td>\n",
              "    </tr>\n",
              "    <tr>\n",
              "      <th>2021-12-17</th>\n",
              "      <td>PA</td>\n",
              "      <td>Jacareacanga</td>\n",
              "      <td>35586</td>\n",
              "    </tr>\n",
              "    <tr>\n",
              "      <th>2021-12-17</th>\n",
              "      <td>RN</td>\n",
              "      <td>Severiano Melo</td>\n",
              "      <td>38649</td>\n",
              "    </tr>\n",
              "    <tr>\n",
              "      <th>2021-12-17</th>\n",
              "      <td>AM</td>\n",
              "      <td>Japurá</td>\n",
              "      <td>46690</td>\n",
              "    </tr>\n",
              "    <tr>\n",
              "      <th>2021-12-17</th>\n",
              "      <td>GO</td>\n",
              "      <td>Porteirão</td>\n",
              "      <td>50878</td>\n",
              "    </tr>\n",
              "  </tbody>\n",
              "</table>\n",
              "</div>\n",
              "      <button class=\"colab-df-convert\" onclick=\"convertToInteractive('df-507d7d7f-7603-456d-8344-4825b35e64e4')\"\n",
              "              title=\"Convert this dataframe to an interactive table.\"\n",
              "              style=\"display:none;\">\n",
              "        \n",
              "  <svg xmlns=\"http://www.w3.org/2000/svg\" height=\"24px\"viewBox=\"0 0 24 24\"\n",
              "       width=\"24px\">\n",
              "    <path d=\"M0 0h24v24H0V0z\" fill=\"none\"/>\n",
              "    <path d=\"M18.56 5.44l.94 2.06.94-2.06 2.06-.94-2.06-.94-.94-2.06-.94 2.06-2.06.94zm-11 1L8.5 8.5l.94-2.06 2.06-.94-2.06-.94L8.5 2.5l-.94 2.06-2.06.94zm10 10l.94 2.06.94-2.06 2.06-.94-2.06-.94-.94-2.06-.94 2.06-2.06.94z\"/><path d=\"M17.41 7.96l-1.37-1.37c-.4-.4-.92-.59-1.43-.59-.52 0-1.04.2-1.43.59L10.3 9.45l-7.72 7.72c-.78.78-.78 2.05 0 2.83L4 21.41c.39.39.9.59 1.41.59.51 0 1.02-.2 1.41-.59l7.78-7.78 2.81-2.81c.8-.78.8-2.07 0-2.86zM5.41 20L4 18.59l7.72-7.72 1.47 1.35L5.41 20z\"/>\n",
              "  </svg>\n",
              "      </button>\n",
              "      \n",
              "  <style>\n",
              "    .colab-df-container {\n",
              "      display:flex;\n",
              "      flex-wrap:wrap;\n",
              "      gap: 12px;\n",
              "    }\n",
              "\n",
              "    .colab-df-convert {\n",
              "      background-color: #E8F0FE;\n",
              "      border: none;\n",
              "      border-radius: 50%;\n",
              "      cursor: pointer;\n",
              "      display: none;\n",
              "      fill: #1967D2;\n",
              "      height: 32px;\n",
              "      padding: 0 0 0 0;\n",
              "      width: 32px;\n",
              "    }\n",
              "\n",
              "    .colab-df-convert:hover {\n",
              "      background-color: #E2EBFA;\n",
              "      box-shadow: 0px 1px 2px rgba(60, 64, 67, 0.3), 0px 1px 3px 1px rgba(60, 64, 67, 0.15);\n",
              "      fill: #174EA6;\n",
              "    }\n",
              "\n",
              "    [theme=dark] .colab-df-convert {\n",
              "      background-color: #3B4455;\n",
              "      fill: #D2E3FC;\n",
              "    }\n",
              "\n",
              "    [theme=dark] .colab-df-convert:hover {\n",
              "      background-color: #434B5C;\n",
              "      box-shadow: 0px 1px 3px 1px rgba(0, 0, 0, 0.15);\n",
              "      filter: drop-shadow(0px 1px 2px rgba(0, 0, 0, 0.3));\n",
              "      fill: #FFFFFF;\n",
              "    }\n",
              "  </style>\n",
              "\n",
              "      <script>\n",
              "        const buttonEl =\n",
              "          document.querySelector('#df-507d7d7f-7603-456d-8344-4825b35e64e4 button.colab-df-convert');\n",
              "        buttonEl.style.display =\n",
              "          google.colab.kernel.accessAllowed ? 'block' : 'none';\n",
              "\n",
              "        async function convertToInteractive(key) {\n",
              "          const element = document.querySelector('#df-507d7d7f-7603-456d-8344-4825b35e64e4');\n",
              "          const dataTable =\n",
              "            await google.colab.kernel.invokeFunction('convertToInteractive',\n",
              "                                                     [key], {});\n",
              "          if (!dataTable) return;\n",
              "\n",
              "          const docLinkHtml = 'Like what you see? Visit the ' +\n",
              "            '<a target=\"_blank\" href=https://colab.research.google.com/notebooks/data_table.ipynb>data table notebook</a>'\n",
              "            + ' to learn more about interactive tables.';\n",
              "          element.innerHTML = '';\n",
              "          dataTable['output_type'] = 'display_data';\n",
              "          await google.colab.output.renderOutput(dataTable, element);\n",
              "          const docLink = document.createElement('div');\n",
              "          docLink.innerHTML = docLinkHtml;\n",
              "          element.appendChild(docLink);\n",
              "        }\n",
              "      </script>\n",
              "    </div>\n",
              "  </div>\n",
              "  "
            ],
            "text/plain": [
              "           estado  ... casos_confirmados_acumulados_por_100k_habitantes\n",
              "data               ...                                                 \n",
              "2021-12-17     GO  ...                                            30820\n",
              "2021-12-17     RN  ...                                            30957\n",
              "2021-12-17     SC  ...                                            31416\n",
              "2021-12-17     PR  ...                                            32197\n",
              "2021-12-17     AM  ...                                            33554\n",
              "2021-12-17     RS  ...                                            34578\n",
              "2021-12-17     PA  ...                                            35586\n",
              "2021-12-17     RN  ...                                            38649\n",
              "2021-12-17     AM  ...                                            46690\n",
              "2021-12-17     GO  ...                                            50878\n",
              "\n",
              "[10 rows x 3 columns]"
            ]
          },
          "metadata": {},
          "execution_count": 180
        }
      ]
    },
    {
      "cell_type": "markdown",
      "source": [
        "Dentre os 10 municípios que tiveram o maior número de casos por habitante nenhum deles é do estado de Roraima. "
      ],
      "metadata": {
        "id": "fWeal47d9dct"
      }
    },
    {
      "cell_type": "markdown",
      "source": [
        "#### <font color= MediumSpringGreen> 2.2 Municípios de Roraima: casos por habitante\n"
      ],
      "metadata": {
        "id": "bpHDB3Sa_bdA"
      }
    },
    {
      "cell_type": "code",
      "source": [
        "#Criar DF com colunas necessárias e filtrar por estados e municípios e última data disponível\n",
        "municipios_RR_dez_2021 = casos_covid[['date','state','city','place_type','last_available_confirmed_per_100k_inhabitants']].query('place_type == \"city\" and state== \"RR\" and date == \"2021-12-17\"')    "
      ],
      "metadata": {
        "id": "1p162d2r88tT"
      },
      "execution_count": 181,
      "outputs": []
    },
    {
      "cell_type": "code",
      "source": [
        "municipios_RR_dez_2021.drop(columns=['place_type','state'],inplace=True)                      #Remover coluna de tipo de local"
      ],
      "metadata": {
        "id": "-uiat8n1_rBB"
      },
      "execution_count": 183,
      "outputs": []
    },
    {
      "cell_type": "code",
      "source": [
        "municipios_RR_dez_2021.columns = ['data','municipio', 'casos_confirmados_acumulados_por_100k_habitantes']  #Renomear colunas"
      ],
      "metadata": {
        "id": "563TAOpN_rBC"
      },
      "execution_count": 185,
      "outputs": []
    },
    {
      "cell_type": "code",
      "source": [
        "municipios_RR_dez_2021.sort_values(by='casos_confirmados_acumulados_por_100k_habitantes',ascending=True,inplace = True) #Ordenar DF pela coluna de casos/habitante"
      ],
      "metadata": {
        "id": "yPAyR533_rBC"
      },
      "execution_count": 187,
      "outputs": []
    },
    {
      "cell_type": "code",
      "source": [
        "municipios_RR_dez_2021.dropna(subset=['casos_confirmados_acumulados_por_100k_habitantes'],inplace=True)             #Excluir valores nulos"
      ],
      "metadata": {
        "id": "5zwwd8rZ_rBD"
      },
      "execution_count": 188,
      "outputs": []
    },
    {
      "cell_type": "code",
      "source": [
        "municipios_RR_dez_2021['casos_confirmados_acumulados_por_100k_habitantes'] = municipios_RR_dez_2021['casos_confirmados_acumulados_por_100k_habitantes'].round(0).astype(int)   #Arredondar números"
      ],
      "metadata": {
        "id": "36LS-mTg_rBD"
      },
      "execution_count": 189,
      "outputs": []
    },
    {
      "cell_type": "code",
      "source": [
        "municipios_RR_dez_2021['data'] = pd.to_datetime(municipios_RR_dez_2021['data'],format='%Y-%m-%d')   #Alterando o tipo da coluna data"
      ],
      "metadata": {
        "id": "eb0rIgh0_rBD"
      },
      "execution_count": 190,
      "outputs": []
    },
    {
      "cell_type": "code",
      "source": [
        "municipio_RR_dez_2021_5_primeiros = municipios_RR_dez_2021.tail(5)                         #Selecionando apenas os maiores valores"
      ],
      "metadata": {
        "id": "m46sJFlY_rBE"
      },
      "execution_count": 194,
      "outputs": []
    },
    {
      "cell_type": "code",
      "source": [
        "municipio_RR_dez_2021_5_primeiros.set_index('data',inplace=True)                     #Selecionando a data como índice"
      ],
      "metadata": {
        "id": "k2U3rk7P_rBE"
      },
      "execution_count": 195,
      "outputs": []
    },
    {
      "cell_type": "code",
      "source": [
        "municipio_RR_dez_2021_5_primeiros"
      ],
      "metadata": {
        "colab": {
          "base_uri": "https://localhost:8080/",
          "height": 237
        },
        "id": "G03KFdqC__-A",
        "outputId": "6af63afb-70f9-4e52-af3d-c5832377a959"
      },
      "execution_count": 196,
      "outputs": [
        {
          "output_type": "execute_result",
          "data": {
            "text/html": [
              "\n",
              "  <div id=\"df-91d4db96-0d05-43f7-a796-ac412511dd93\">\n",
              "    <div class=\"colab-df-container\">\n",
              "      <div>\n",
              "<style scoped>\n",
              "    .dataframe tbody tr th:only-of-type {\n",
              "        vertical-align: middle;\n",
              "    }\n",
              "\n",
              "    .dataframe tbody tr th {\n",
              "        vertical-align: top;\n",
              "    }\n",
              "\n",
              "    .dataframe thead th {\n",
              "        text-align: right;\n",
              "    }\n",
              "</style>\n",
              "<table border=\"1\" class=\"dataframe\">\n",
              "  <thead>\n",
              "    <tr style=\"text-align: right;\">\n",
              "      <th></th>\n",
              "      <th>municipio</th>\n",
              "      <th>casos_confirmados_acumulados_por_100k_habitantes</th>\n",
              "    </tr>\n",
              "    <tr>\n",
              "      <th>data</th>\n",
              "      <th></th>\n",
              "      <th></th>\n",
              "    </tr>\n",
              "  </thead>\n",
              "  <tbody>\n",
              "    <tr>\n",
              "      <th>2021-12-17</th>\n",
              "      <td>Cantá</td>\n",
              "      <td>13533</td>\n",
              "    </tr>\n",
              "    <tr>\n",
              "      <th>2021-12-17</th>\n",
              "      <td>Caroebe</td>\n",
              "      <td>19542</td>\n",
              "    </tr>\n",
              "    <tr>\n",
              "      <th>2021-12-17</th>\n",
              "      <td>São João da Baliza</td>\n",
              "      <td>19969</td>\n",
              "    </tr>\n",
              "    <tr>\n",
              "      <th>2021-12-17</th>\n",
              "      <td>Bonfim</td>\n",
              "      <td>20236</td>\n",
              "    </tr>\n",
              "    <tr>\n",
              "      <th>2021-12-17</th>\n",
              "      <td>Boa Vista</td>\n",
              "      <td>23370</td>\n",
              "    </tr>\n",
              "  </tbody>\n",
              "</table>\n",
              "</div>\n",
              "      <button class=\"colab-df-convert\" onclick=\"convertToInteractive('df-91d4db96-0d05-43f7-a796-ac412511dd93')\"\n",
              "              title=\"Convert this dataframe to an interactive table.\"\n",
              "              style=\"display:none;\">\n",
              "        \n",
              "  <svg xmlns=\"http://www.w3.org/2000/svg\" height=\"24px\"viewBox=\"0 0 24 24\"\n",
              "       width=\"24px\">\n",
              "    <path d=\"M0 0h24v24H0V0z\" fill=\"none\"/>\n",
              "    <path d=\"M18.56 5.44l.94 2.06.94-2.06 2.06-.94-2.06-.94-.94-2.06-.94 2.06-2.06.94zm-11 1L8.5 8.5l.94-2.06 2.06-.94-2.06-.94L8.5 2.5l-.94 2.06-2.06.94zm10 10l.94 2.06.94-2.06 2.06-.94-2.06-.94-.94-2.06-.94 2.06-2.06.94z\"/><path d=\"M17.41 7.96l-1.37-1.37c-.4-.4-.92-.59-1.43-.59-.52 0-1.04.2-1.43.59L10.3 9.45l-7.72 7.72c-.78.78-.78 2.05 0 2.83L4 21.41c.39.39.9.59 1.41.59.51 0 1.02-.2 1.41-.59l7.78-7.78 2.81-2.81c.8-.78.8-2.07 0-2.86zM5.41 20L4 18.59l7.72-7.72 1.47 1.35L5.41 20z\"/>\n",
              "  </svg>\n",
              "      </button>\n",
              "      \n",
              "  <style>\n",
              "    .colab-df-container {\n",
              "      display:flex;\n",
              "      flex-wrap:wrap;\n",
              "      gap: 12px;\n",
              "    }\n",
              "\n",
              "    .colab-df-convert {\n",
              "      background-color: #E8F0FE;\n",
              "      border: none;\n",
              "      border-radius: 50%;\n",
              "      cursor: pointer;\n",
              "      display: none;\n",
              "      fill: #1967D2;\n",
              "      height: 32px;\n",
              "      padding: 0 0 0 0;\n",
              "      width: 32px;\n",
              "    }\n",
              "\n",
              "    .colab-df-convert:hover {\n",
              "      background-color: #E2EBFA;\n",
              "      box-shadow: 0px 1px 2px rgba(60, 64, 67, 0.3), 0px 1px 3px 1px rgba(60, 64, 67, 0.15);\n",
              "      fill: #174EA6;\n",
              "    }\n",
              "\n",
              "    [theme=dark] .colab-df-convert {\n",
              "      background-color: #3B4455;\n",
              "      fill: #D2E3FC;\n",
              "    }\n",
              "\n",
              "    [theme=dark] .colab-df-convert:hover {\n",
              "      background-color: #434B5C;\n",
              "      box-shadow: 0px 1px 3px 1px rgba(0, 0, 0, 0.15);\n",
              "      filter: drop-shadow(0px 1px 2px rgba(0, 0, 0, 0.3));\n",
              "      fill: #FFFFFF;\n",
              "    }\n",
              "  </style>\n",
              "\n",
              "      <script>\n",
              "        const buttonEl =\n",
              "          document.querySelector('#df-91d4db96-0d05-43f7-a796-ac412511dd93 button.colab-df-convert');\n",
              "        buttonEl.style.display =\n",
              "          google.colab.kernel.accessAllowed ? 'block' : 'none';\n",
              "\n",
              "        async function convertToInteractive(key) {\n",
              "          const element = document.querySelector('#df-91d4db96-0d05-43f7-a796-ac412511dd93');\n",
              "          const dataTable =\n",
              "            await google.colab.kernel.invokeFunction('convertToInteractive',\n",
              "                                                     [key], {});\n",
              "          if (!dataTable) return;\n",
              "\n",
              "          const docLinkHtml = 'Like what you see? Visit the ' +\n",
              "            '<a target=\"_blank\" href=https://colab.research.google.com/notebooks/data_table.ipynb>data table notebook</a>'\n",
              "            + ' to learn more about interactive tables.';\n",
              "          element.innerHTML = '';\n",
              "          dataTable['output_type'] = 'display_data';\n",
              "          await google.colab.output.renderOutput(dataTable, element);\n",
              "          const docLink = document.createElement('div');\n",
              "          docLink.innerHTML = docLinkHtml;\n",
              "          element.appendChild(docLink);\n",
              "        }\n",
              "      </script>\n",
              "    </div>\n",
              "  </div>\n",
              "  "
            ],
            "text/plain": [
              "                     municipio  casos_confirmados_acumulados_por_100k_habitantes\n",
              "data                                                                            \n",
              "2021-12-17               Cantá                                             13533\n",
              "2021-12-17             Caroebe                                             19542\n",
              "2021-12-17  São João da Baliza                                             19969\n",
              "2021-12-17              Bonfim                                             20236\n",
              "2021-12-17           Boa Vista                                             23370"
            ]
          },
          "metadata": {},
          "execution_count": 196
        }
      ]
    },
    {
      "cell_type": "markdown",
      "source": [
        "Boa Vista é o município com o maior número de casos acumulados por habitante no estado de Roraima."
      ],
      "metadata": {
        "id": "W56eKqcXA2IV"
      }
    },
    {
      "cell_type": "markdown",
      "source": [
        "### <font color= MediumSpringGreen> 3. Histórico de casos no município de Boa Vista - RR"
      ],
      "metadata": {
        "id": "8jRJFuvcBMsV"
      }
    },
    {
      "cell_type": "markdown",
      "source": [
        "Manipularei dois DataFrames para que eles sejam utilizados para entender a tendência e ser utilizado pelo Prophet."
      ],
      "metadata": {
        "id": "Q75WxKzYGOAb"
      }
    },
    {
      "cell_type": "code",
      "source": [
        "#Criar DF com colunas necessárias e filtrar pelo município de Boa Vista\n",
        "casos_covid_BoaVista = casos_covid[['date','city','new_confirmed']].query('city== \"Boa Vista\"')    "
      ],
      "metadata": {
        "id": "5xNnD9qmAv7T"
      },
      "execution_count": 205,
      "outputs": []
    },
    {
      "cell_type": "code",
      "source": [
        "casos_covid_BoaVista.drop(columns=['city'], inplace=True)                       #Escluir coluna de cidade"
      ],
      "metadata": {
        "id": "vRLQXHtyCCHz"
      },
      "execution_count": null,
      "outputs": []
    },
    {
      "cell_type": "markdown",
      "source": [
        "DF para o Prophet"
      ],
      "metadata": {
        "id": "nsRoIUxPGe78"
      }
    },
    {
      "cell_type": "code",
      "source": [
        "casos_covid_BoaVista.columns = ['df','y']                                       #Renomeando coluna para o Prophet"
      ],
      "metadata": {
        "id": "cl-cLU88CCvh"
      },
      "execution_count": 221,
      "outputs": []
    },
    {
      "cell_type": "code",
      "source": [
        "casos_covid_BoaVista['df'] = pd.to_datetime(casos_covid_BoaVista['df'],format='%Y-%m-%d')   #Alterando o tipo da coluna data"
      ],
      "metadata": {
        "id": "DQ1R0ZaaDAeW"
      },
      "execution_count": 222,
      "outputs": []
    },
    {
      "cell_type": "code",
      "source": [
        "casos_covid_BoaVista"
      ],
      "metadata": {
        "colab": {
          "base_uri": "https://localhost:8080/",
          "height": 423
        },
        "id": "oB6V-pjtDg8F",
        "outputId": "77dd8316-9cb6-438a-d126-d90192e6cca1"
      },
      "execution_count": 223,
      "outputs": [
        {
          "output_type": "execute_result",
          "data": {
            "text/html": [
              "\n",
              "  <div id=\"df-c93934c3-7e12-4e83-be22-ccaeca81c0e1\">\n",
              "    <div class=\"colab-df-container\">\n",
              "      <div>\n",
              "<style scoped>\n",
              "    .dataframe tbody tr th:only-of-type {\n",
              "        vertical-align: middle;\n",
              "    }\n",
              "\n",
              "    .dataframe tbody tr th {\n",
              "        vertical-align: top;\n",
              "    }\n",
              "\n",
              "    .dataframe thead th {\n",
              "        text-align: right;\n",
              "    }\n",
              "</style>\n",
              "<table border=\"1\" class=\"dataframe\">\n",
              "  <thead>\n",
              "    <tr style=\"text-align: right;\">\n",
              "      <th></th>\n",
              "      <th>df</th>\n",
              "      <th>y</th>\n",
              "    </tr>\n",
              "  </thead>\n",
              "  <tbody>\n",
              "    <tr>\n",
              "      <th>1514792</th>\n",
              "      <td>2020-05-16</td>\n",
              "      <td>1</td>\n",
              "    </tr>\n",
              "    <tr>\n",
              "      <th>1514928</th>\n",
              "      <td>2020-05-17</td>\n",
              "      <td>0</td>\n",
              "    </tr>\n",
              "    <tr>\n",
              "      <th>1515066</th>\n",
              "      <td>2020-05-18</td>\n",
              "      <td>0</td>\n",
              "    </tr>\n",
              "    <tr>\n",
              "      <th>1515209</th>\n",
              "      <td>2020-05-19</td>\n",
              "      <td>0</td>\n",
              "    </tr>\n",
              "    <tr>\n",
              "      <th>1515359</th>\n",
              "      <td>2020-05-20</td>\n",
              "      <td>0</td>\n",
              "    </tr>\n",
              "    <tr>\n",
              "      <th>...</th>\n",
              "      <td>...</td>\n",
              "      <td>...</td>\n",
              "    </tr>\n",
              "    <tr>\n",
              "      <th>2319885</th>\n",
              "      <td>2021-12-13</td>\n",
              "      <td>0</td>\n",
              "    </tr>\n",
              "    <tr>\n",
              "      <th>2319902</th>\n",
              "      <td>2021-12-14</td>\n",
              "      <td>0</td>\n",
              "    </tr>\n",
              "    <tr>\n",
              "      <th>2319919</th>\n",
              "      <td>2021-12-15</td>\n",
              "      <td>0</td>\n",
              "    </tr>\n",
              "    <tr>\n",
              "      <th>2319936</th>\n",
              "      <td>2021-12-16</td>\n",
              "      <td>0</td>\n",
              "    </tr>\n",
              "    <tr>\n",
              "      <th>2319953</th>\n",
              "      <td>2021-12-17</td>\n",
              "      <td>0</td>\n",
              "    </tr>\n",
              "  </tbody>\n",
              "</table>\n",
              "<p>1218 rows × 2 columns</p>\n",
              "</div>\n",
              "      <button class=\"colab-df-convert\" onclick=\"convertToInteractive('df-c93934c3-7e12-4e83-be22-ccaeca81c0e1')\"\n",
              "              title=\"Convert this dataframe to an interactive table.\"\n",
              "              style=\"display:none;\">\n",
              "        \n",
              "  <svg xmlns=\"http://www.w3.org/2000/svg\" height=\"24px\"viewBox=\"0 0 24 24\"\n",
              "       width=\"24px\">\n",
              "    <path d=\"M0 0h24v24H0V0z\" fill=\"none\"/>\n",
              "    <path d=\"M18.56 5.44l.94 2.06.94-2.06 2.06-.94-2.06-.94-.94-2.06-.94 2.06-2.06.94zm-11 1L8.5 8.5l.94-2.06 2.06-.94-2.06-.94L8.5 2.5l-.94 2.06-2.06.94zm10 10l.94 2.06.94-2.06 2.06-.94-2.06-.94-.94-2.06-.94 2.06-2.06.94z\"/><path d=\"M17.41 7.96l-1.37-1.37c-.4-.4-.92-.59-1.43-.59-.52 0-1.04.2-1.43.59L10.3 9.45l-7.72 7.72c-.78.78-.78 2.05 0 2.83L4 21.41c.39.39.9.59 1.41.59.51 0 1.02-.2 1.41-.59l7.78-7.78 2.81-2.81c.8-.78.8-2.07 0-2.86zM5.41 20L4 18.59l7.72-7.72 1.47 1.35L5.41 20z\"/>\n",
              "  </svg>\n",
              "      </button>\n",
              "      \n",
              "  <style>\n",
              "    .colab-df-container {\n",
              "      display:flex;\n",
              "      flex-wrap:wrap;\n",
              "      gap: 12px;\n",
              "    }\n",
              "\n",
              "    .colab-df-convert {\n",
              "      background-color: #E8F0FE;\n",
              "      border: none;\n",
              "      border-radius: 50%;\n",
              "      cursor: pointer;\n",
              "      display: none;\n",
              "      fill: #1967D2;\n",
              "      height: 32px;\n",
              "      padding: 0 0 0 0;\n",
              "      width: 32px;\n",
              "    }\n",
              "\n",
              "    .colab-df-convert:hover {\n",
              "      background-color: #E2EBFA;\n",
              "      box-shadow: 0px 1px 2px rgba(60, 64, 67, 0.3), 0px 1px 3px 1px rgba(60, 64, 67, 0.15);\n",
              "      fill: #174EA6;\n",
              "    }\n",
              "\n",
              "    [theme=dark] .colab-df-convert {\n",
              "      background-color: #3B4455;\n",
              "      fill: #D2E3FC;\n",
              "    }\n",
              "\n",
              "    [theme=dark] .colab-df-convert:hover {\n",
              "      background-color: #434B5C;\n",
              "      box-shadow: 0px 1px 3px 1px rgba(0, 0, 0, 0.15);\n",
              "      filter: drop-shadow(0px 1px 2px rgba(0, 0, 0, 0.3));\n",
              "      fill: #FFFFFF;\n",
              "    }\n",
              "  </style>\n",
              "\n",
              "      <script>\n",
              "        const buttonEl =\n",
              "          document.querySelector('#df-c93934c3-7e12-4e83-be22-ccaeca81c0e1 button.colab-df-convert');\n",
              "        buttonEl.style.display =\n",
              "          google.colab.kernel.accessAllowed ? 'block' : 'none';\n",
              "\n",
              "        async function convertToInteractive(key) {\n",
              "          const element = document.querySelector('#df-c93934c3-7e12-4e83-be22-ccaeca81c0e1');\n",
              "          const dataTable =\n",
              "            await google.colab.kernel.invokeFunction('convertToInteractive',\n",
              "                                                     [key], {});\n",
              "          if (!dataTable) return;\n",
              "\n",
              "          const docLinkHtml = 'Like what you see? Visit the ' +\n",
              "            '<a target=\"_blank\" href=https://colab.research.google.com/notebooks/data_table.ipynb>data table notebook</a>'\n",
              "            + ' to learn more about interactive tables.';\n",
              "          element.innerHTML = '';\n",
              "          dataTable['output_type'] = 'display_data';\n",
              "          await google.colab.output.renderOutput(dataTable, element);\n",
              "          const docLink = document.createElement('div');\n",
              "          docLink.innerHTML = docLinkHtml;\n",
              "          element.appendChild(docLink);\n",
              "        }\n",
              "      </script>\n",
              "    </div>\n",
              "  </div>\n",
              "  "
            ],
            "text/plain": [
              "                df  y\n",
              "1514792 2020-05-16  1\n",
              "1514928 2020-05-17  0\n",
              "1515066 2020-05-18  0\n",
              "1515209 2020-05-19  0\n",
              "1515359 2020-05-20  0\n",
              "...            ... ..\n",
              "2319885 2021-12-13  0\n",
              "2319902 2021-12-14  0\n",
              "2319919 2021-12-15  0\n",
              "2319936 2021-12-16  0\n",
              "2319953 2021-12-17  0\n",
              "\n",
              "[1218 rows x 2 columns]"
            ]
          },
          "metadata": {},
          "execution_count": 223
        }
      ]
    },
    {
      "cell_type": "markdown",
      "source": [
        "Df para análise de tendência"
      ],
      "metadata": {
        "id": "DjDLoVLGGzri"
      }
    },
    {
      "cell_type": "code",
      "source": [
        "casos_BoaVista = casos_covid_BoaVista.copy()                                    #Criando cópia do DF  "
      ],
      "metadata": {
        "id": "UL_joCuLDrRc"
      },
      "execution_count": 225,
      "outputs": []
    },
    {
      "cell_type": "code",
      "source": [
        "casos_BoaVista.columns = ['data','casos_novos']                                 #Renomeando coluna"
      ],
      "metadata": {
        "id": "2bV28JvuG3Ru"
      },
      "execution_count": 227,
      "outputs": []
    },
    {
      "cell_type": "code",
      "source": [
        "casos_BoaVista"
      ],
      "metadata": {
        "colab": {
          "base_uri": "https://localhost:8080/",
          "height": 423
        },
        "id": "szHvqwW0G9c9",
        "outputId": "2a24612d-700e-425b-b6d6-b36586a30829"
      },
      "execution_count": 228,
      "outputs": [
        {
          "output_type": "execute_result",
          "data": {
            "text/html": [
              "\n",
              "  <div id=\"df-ea363ff0-3c2c-4250-a014-e06976922d4b\">\n",
              "    <div class=\"colab-df-container\">\n",
              "      <div>\n",
              "<style scoped>\n",
              "    .dataframe tbody tr th:only-of-type {\n",
              "        vertical-align: middle;\n",
              "    }\n",
              "\n",
              "    .dataframe tbody tr th {\n",
              "        vertical-align: top;\n",
              "    }\n",
              "\n",
              "    .dataframe thead th {\n",
              "        text-align: right;\n",
              "    }\n",
              "</style>\n",
              "<table border=\"1\" class=\"dataframe\">\n",
              "  <thead>\n",
              "    <tr style=\"text-align: right;\">\n",
              "      <th></th>\n",
              "      <th>data</th>\n",
              "      <th>casos_novos</th>\n",
              "    </tr>\n",
              "  </thead>\n",
              "  <tbody>\n",
              "    <tr>\n",
              "      <th>1514792</th>\n",
              "      <td>2020-05-16</td>\n",
              "      <td>1</td>\n",
              "    </tr>\n",
              "    <tr>\n",
              "      <th>1514928</th>\n",
              "      <td>2020-05-17</td>\n",
              "      <td>0</td>\n",
              "    </tr>\n",
              "    <tr>\n",
              "      <th>1515066</th>\n",
              "      <td>2020-05-18</td>\n",
              "      <td>0</td>\n",
              "    </tr>\n",
              "    <tr>\n",
              "      <th>1515209</th>\n",
              "      <td>2020-05-19</td>\n",
              "      <td>0</td>\n",
              "    </tr>\n",
              "    <tr>\n",
              "      <th>1515359</th>\n",
              "      <td>2020-05-20</td>\n",
              "      <td>0</td>\n",
              "    </tr>\n",
              "    <tr>\n",
              "      <th>...</th>\n",
              "      <td>...</td>\n",
              "      <td>...</td>\n",
              "    </tr>\n",
              "    <tr>\n",
              "      <th>2319885</th>\n",
              "      <td>2021-12-13</td>\n",
              "      <td>0</td>\n",
              "    </tr>\n",
              "    <tr>\n",
              "      <th>2319902</th>\n",
              "      <td>2021-12-14</td>\n",
              "      <td>0</td>\n",
              "    </tr>\n",
              "    <tr>\n",
              "      <th>2319919</th>\n",
              "      <td>2021-12-15</td>\n",
              "      <td>0</td>\n",
              "    </tr>\n",
              "    <tr>\n",
              "      <th>2319936</th>\n",
              "      <td>2021-12-16</td>\n",
              "      <td>0</td>\n",
              "    </tr>\n",
              "    <tr>\n",
              "      <th>2319953</th>\n",
              "      <td>2021-12-17</td>\n",
              "      <td>0</td>\n",
              "    </tr>\n",
              "  </tbody>\n",
              "</table>\n",
              "<p>1218 rows × 2 columns</p>\n",
              "</div>\n",
              "      <button class=\"colab-df-convert\" onclick=\"convertToInteractive('df-ea363ff0-3c2c-4250-a014-e06976922d4b')\"\n",
              "              title=\"Convert this dataframe to an interactive table.\"\n",
              "              style=\"display:none;\">\n",
              "        \n",
              "  <svg xmlns=\"http://www.w3.org/2000/svg\" height=\"24px\"viewBox=\"0 0 24 24\"\n",
              "       width=\"24px\">\n",
              "    <path d=\"M0 0h24v24H0V0z\" fill=\"none\"/>\n",
              "    <path d=\"M18.56 5.44l.94 2.06.94-2.06 2.06-.94-2.06-.94-.94-2.06-.94 2.06-2.06.94zm-11 1L8.5 8.5l.94-2.06 2.06-.94-2.06-.94L8.5 2.5l-.94 2.06-2.06.94zm10 10l.94 2.06.94-2.06 2.06-.94-2.06-.94-.94-2.06-.94 2.06-2.06.94z\"/><path d=\"M17.41 7.96l-1.37-1.37c-.4-.4-.92-.59-1.43-.59-.52 0-1.04.2-1.43.59L10.3 9.45l-7.72 7.72c-.78.78-.78 2.05 0 2.83L4 21.41c.39.39.9.59 1.41.59.51 0 1.02-.2 1.41-.59l7.78-7.78 2.81-2.81c.8-.78.8-2.07 0-2.86zM5.41 20L4 18.59l7.72-7.72 1.47 1.35L5.41 20z\"/>\n",
              "  </svg>\n",
              "      </button>\n",
              "      \n",
              "  <style>\n",
              "    .colab-df-container {\n",
              "      display:flex;\n",
              "      flex-wrap:wrap;\n",
              "      gap: 12px;\n",
              "    }\n",
              "\n",
              "    .colab-df-convert {\n",
              "      background-color: #E8F0FE;\n",
              "      border: none;\n",
              "      border-radius: 50%;\n",
              "      cursor: pointer;\n",
              "      display: none;\n",
              "      fill: #1967D2;\n",
              "      height: 32px;\n",
              "      padding: 0 0 0 0;\n",
              "      width: 32px;\n",
              "    }\n",
              "\n",
              "    .colab-df-convert:hover {\n",
              "      background-color: #E2EBFA;\n",
              "      box-shadow: 0px 1px 2px rgba(60, 64, 67, 0.3), 0px 1px 3px 1px rgba(60, 64, 67, 0.15);\n",
              "      fill: #174EA6;\n",
              "    }\n",
              "\n",
              "    [theme=dark] .colab-df-convert {\n",
              "      background-color: #3B4455;\n",
              "      fill: #D2E3FC;\n",
              "    }\n",
              "\n",
              "    [theme=dark] .colab-df-convert:hover {\n",
              "      background-color: #434B5C;\n",
              "      box-shadow: 0px 1px 3px 1px rgba(0, 0, 0, 0.15);\n",
              "      filter: drop-shadow(0px 1px 2px rgba(0, 0, 0, 0.3));\n",
              "      fill: #FFFFFF;\n",
              "    }\n",
              "  </style>\n",
              "\n",
              "      <script>\n",
              "        const buttonEl =\n",
              "          document.querySelector('#df-ea363ff0-3c2c-4250-a014-e06976922d4b button.colab-df-convert');\n",
              "        buttonEl.style.display =\n",
              "          google.colab.kernel.accessAllowed ? 'block' : 'none';\n",
              "\n",
              "        async function convertToInteractive(key) {\n",
              "          const element = document.querySelector('#df-ea363ff0-3c2c-4250-a014-e06976922d4b');\n",
              "          const dataTable =\n",
              "            await google.colab.kernel.invokeFunction('convertToInteractive',\n",
              "                                                     [key], {});\n",
              "          if (!dataTable) return;\n",
              "\n",
              "          const docLinkHtml = 'Like what you see? Visit the ' +\n",
              "            '<a target=\"_blank\" href=https://colab.research.google.com/notebooks/data_table.ipynb>data table notebook</a>'\n",
              "            + ' to learn more about interactive tables.';\n",
              "          element.innerHTML = '';\n",
              "          dataTable['output_type'] = 'display_data';\n",
              "          await google.colab.output.renderOutput(dataTable, element);\n",
              "          const docLink = document.createElement('div');\n",
              "          docLink.innerHTML = docLinkHtml;\n",
              "          element.appendChild(docLink);\n",
              "        }\n",
              "      </script>\n",
              "    </div>\n",
              "  </div>\n",
              "  "
            ],
            "text/plain": [
              "              data  casos_novos\n",
              "1514792 2020-05-16            1\n",
              "1514928 2020-05-17            0\n",
              "1515066 2020-05-18            0\n",
              "1515209 2020-05-19            0\n",
              "1515359 2020-05-20            0\n",
              "...            ...          ...\n",
              "2319885 2021-12-13            0\n",
              "2319902 2021-12-14            0\n",
              "2319919 2021-12-15            0\n",
              "2319936 2021-12-16            0\n",
              "2319953 2021-12-17            0\n",
              "\n",
              "[1218 rows x 2 columns]"
            ]
          },
          "metadata": {},
          "execution_count": 228
        }
      ]
    },
    {
      "cell_type": "code",
      "source": [
        "casos_BoaVista['taxa_de_crescimento_casos'] = casos_BoaVista.loc[:,'casos_novos'].diff()    #Criar coluna com taxa de crescimento\n"
      ],
      "metadata": {
        "id": "ka0Gy4Q1HEA9"
      },
      "execution_count": 229,
      "outputs": []
    },
    {
      "cell_type": "code",
      "source": [
        "casos_BoaVista['media_movel_casos'] = casos_BoaVista['casos_novos'].rolling(window=7,center=False).mean()"
      ],
      "metadata": {
        "id": "iMucfjeTHwzv"
      },
      "execution_count": 235,
      "outputs": []
    },
    {
      "cell_type": "code",
      "source": [
        "casos_BoaVista"
      ],
      "metadata": {
        "colab": {
          "base_uri": "https://localhost:8080/",
          "height": 423
        },
        "id": "DzSwCWLuIcVC",
        "outputId": "5f2448a6-ce8d-4d5e-f965-202f463f0212"
      },
      "execution_count": 243,
      "outputs": [
        {
          "output_type": "execute_result",
          "data": {
            "text/html": [
              "\n",
              "  <div id=\"df-6b9bc675-e68b-4f1b-8270-23c369639c9f\">\n",
              "    <div class=\"colab-df-container\">\n",
              "      <div>\n",
              "<style scoped>\n",
              "    .dataframe tbody tr th:only-of-type {\n",
              "        vertical-align: middle;\n",
              "    }\n",
              "\n",
              "    .dataframe tbody tr th {\n",
              "        vertical-align: top;\n",
              "    }\n",
              "\n",
              "    .dataframe thead th {\n",
              "        text-align: right;\n",
              "    }\n",
              "</style>\n",
              "<table border=\"1\" class=\"dataframe\">\n",
              "  <thead>\n",
              "    <tr style=\"text-align: right;\">\n",
              "      <th></th>\n",
              "      <th>data</th>\n",
              "      <th>casos_novos</th>\n",
              "      <th>taxa_de_crescimento_casos</th>\n",
              "      <th>media_movel_casos</th>\n",
              "    </tr>\n",
              "  </thead>\n",
              "  <tbody>\n",
              "    <tr>\n",
              "      <th>1514792</th>\n",
              "      <td>2020-05-16</td>\n",
              "      <td>1</td>\n",
              "      <td>nan</td>\n",
              "      <td>nan</td>\n",
              "    </tr>\n",
              "    <tr>\n",
              "      <th>1514928</th>\n",
              "      <td>2020-05-17</td>\n",
              "      <td>0</td>\n",
              "      <td>-1.00</td>\n",
              "      <td>nan</td>\n",
              "    </tr>\n",
              "    <tr>\n",
              "      <th>1515066</th>\n",
              "      <td>2020-05-18</td>\n",
              "      <td>0</td>\n",
              "      <td>0.00</td>\n",
              "      <td>nan</td>\n",
              "    </tr>\n",
              "    <tr>\n",
              "      <th>1515209</th>\n",
              "      <td>2020-05-19</td>\n",
              "      <td>0</td>\n",
              "      <td>0.00</td>\n",
              "      <td>nan</td>\n",
              "    </tr>\n",
              "    <tr>\n",
              "      <th>1515359</th>\n",
              "      <td>2020-05-20</td>\n",
              "      <td>0</td>\n",
              "      <td>0.00</td>\n",
              "      <td>nan</td>\n",
              "    </tr>\n",
              "    <tr>\n",
              "      <th>...</th>\n",
              "      <td>...</td>\n",
              "      <td>...</td>\n",
              "      <td>...</td>\n",
              "      <td>...</td>\n",
              "    </tr>\n",
              "    <tr>\n",
              "      <th>2319885</th>\n",
              "      <td>2021-12-13</td>\n",
              "      <td>0</td>\n",
              "      <td>0.00</td>\n",
              "      <td>0.00</td>\n",
              "    </tr>\n",
              "    <tr>\n",
              "      <th>2319902</th>\n",
              "      <td>2021-12-14</td>\n",
              "      <td>0</td>\n",
              "      <td>0.00</td>\n",
              "      <td>0.00</td>\n",
              "    </tr>\n",
              "    <tr>\n",
              "      <th>2319919</th>\n",
              "      <td>2021-12-15</td>\n",
              "      <td>0</td>\n",
              "      <td>0.00</td>\n",
              "      <td>0.00</td>\n",
              "    </tr>\n",
              "    <tr>\n",
              "      <th>2319936</th>\n",
              "      <td>2021-12-16</td>\n",
              "      <td>0</td>\n",
              "      <td>0.00</td>\n",
              "      <td>0.00</td>\n",
              "    </tr>\n",
              "    <tr>\n",
              "      <th>2319953</th>\n",
              "      <td>2021-12-17</td>\n",
              "      <td>0</td>\n",
              "      <td>0.00</td>\n",
              "      <td>0.00</td>\n",
              "    </tr>\n",
              "  </tbody>\n",
              "</table>\n",
              "<p>1218 rows × 4 columns</p>\n",
              "</div>\n",
              "      <button class=\"colab-df-convert\" onclick=\"convertToInteractive('df-6b9bc675-e68b-4f1b-8270-23c369639c9f')\"\n",
              "              title=\"Convert this dataframe to an interactive table.\"\n",
              "              style=\"display:none;\">\n",
              "        \n",
              "  <svg xmlns=\"http://www.w3.org/2000/svg\" height=\"24px\"viewBox=\"0 0 24 24\"\n",
              "       width=\"24px\">\n",
              "    <path d=\"M0 0h24v24H0V0z\" fill=\"none\"/>\n",
              "    <path d=\"M18.56 5.44l.94 2.06.94-2.06 2.06-.94-2.06-.94-.94-2.06-.94 2.06-2.06.94zm-11 1L8.5 8.5l.94-2.06 2.06-.94-2.06-.94L8.5 2.5l-.94 2.06-2.06.94zm10 10l.94 2.06.94-2.06 2.06-.94-2.06-.94-.94-2.06-.94 2.06-2.06.94z\"/><path d=\"M17.41 7.96l-1.37-1.37c-.4-.4-.92-.59-1.43-.59-.52 0-1.04.2-1.43.59L10.3 9.45l-7.72 7.72c-.78.78-.78 2.05 0 2.83L4 21.41c.39.39.9.59 1.41.59.51 0 1.02-.2 1.41-.59l7.78-7.78 2.81-2.81c.8-.78.8-2.07 0-2.86zM5.41 20L4 18.59l7.72-7.72 1.47 1.35L5.41 20z\"/>\n",
              "  </svg>\n",
              "      </button>\n",
              "      \n",
              "  <style>\n",
              "    .colab-df-container {\n",
              "      display:flex;\n",
              "      flex-wrap:wrap;\n",
              "      gap: 12px;\n",
              "    }\n",
              "\n",
              "    .colab-df-convert {\n",
              "      background-color: #E8F0FE;\n",
              "      border: none;\n",
              "      border-radius: 50%;\n",
              "      cursor: pointer;\n",
              "      display: none;\n",
              "      fill: #1967D2;\n",
              "      height: 32px;\n",
              "      padding: 0 0 0 0;\n",
              "      width: 32px;\n",
              "    }\n",
              "\n",
              "    .colab-df-convert:hover {\n",
              "      background-color: #E2EBFA;\n",
              "      box-shadow: 0px 1px 2px rgba(60, 64, 67, 0.3), 0px 1px 3px 1px rgba(60, 64, 67, 0.15);\n",
              "      fill: #174EA6;\n",
              "    }\n",
              "\n",
              "    [theme=dark] .colab-df-convert {\n",
              "      background-color: #3B4455;\n",
              "      fill: #D2E3FC;\n",
              "    }\n",
              "\n",
              "    [theme=dark] .colab-df-convert:hover {\n",
              "      background-color: #434B5C;\n",
              "      box-shadow: 0px 1px 3px 1px rgba(0, 0, 0, 0.15);\n",
              "      filter: drop-shadow(0px 1px 2px rgba(0, 0, 0, 0.3));\n",
              "      fill: #FFFFFF;\n",
              "    }\n",
              "  </style>\n",
              "\n",
              "      <script>\n",
              "        const buttonEl =\n",
              "          document.querySelector('#df-6b9bc675-e68b-4f1b-8270-23c369639c9f button.colab-df-convert');\n",
              "        buttonEl.style.display =\n",
              "          google.colab.kernel.accessAllowed ? 'block' : 'none';\n",
              "\n",
              "        async function convertToInteractive(key) {\n",
              "          const element = document.querySelector('#df-6b9bc675-e68b-4f1b-8270-23c369639c9f');\n",
              "          const dataTable =\n",
              "            await google.colab.kernel.invokeFunction('convertToInteractive',\n",
              "                                                     [key], {});\n",
              "          if (!dataTable) return;\n",
              "\n",
              "          const docLinkHtml = 'Like what you see? Visit the ' +\n",
              "            '<a target=\"_blank\" href=https://colab.research.google.com/notebooks/data_table.ipynb>data table notebook</a>'\n",
              "            + ' to learn more about interactive tables.';\n",
              "          element.innerHTML = '';\n",
              "          dataTable['output_type'] = 'display_data';\n",
              "          await google.colab.output.renderOutput(dataTable, element);\n",
              "          const docLink = document.createElement('div');\n",
              "          docLink.innerHTML = docLinkHtml;\n",
              "          element.appendChild(docLink);\n",
              "        }\n",
              "      </script>\n",
              "    </div>\n",
              "  </div>\n",
              "  "
            ],
            "text/plain": [
              "              data  casos_novos  taxa_de_crescimento_casos  media_movel_casos\n",
              "1514792 2020-05-16            1                        nan                nan\n",
              "1514928 2020-05-17            0                      -1.00                nan\n",
              "1515066 2020-05-18            0                       0.00                nan\n",
              "1515209 2020-05-19            0                       0.00                nan\n",
              "1515359 2020-05-20            0                       0.00                nan\n",
              "...            ...          ...                        ...                ...\n",
              "2319885 2021-12-13            0                       0.00               0.00\n",
              "2319902 2021-12-14            0                       0.00               0.00\n",
              "2319919 2021-12-15            0                       0.00               0.00\n",
              "2319936 2021-12-16            0                       0.00               0.00\n",
              "2319953 2021-12-17            0                       0.00               0.00\n",
              "\n",
              "[1218 rows x 4 columns]"
            ]
          },
          "metadata": {},
          "execution_count": 243
        }
      ]
    },
    {
      "cell_type": "code",
      "source": [
        ""
      ],
      "metadata": {
        "id": "Mvg7LDksI43R"
      },
      "execution_count": null,
      "outputs": []
    }
  ]
}